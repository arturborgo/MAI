{
  "nbformat": 4,
  "nbformat_minor": 0,
  "metadata": {
    "colab": {
      "provenance": [],
      "authorship_tag": "ABX9TyMsrJiXC6mxAm1I+oHymNW9",
      "include_colab_link": true
    },
    "kernelspec": {
      "name": "python3",
      "display_name": "Python 3"
    },
    "language_info": {
      "name": "python"
    }
  },
  "cells": [
    {
      "cell_type": "markdown",
      "metadata": {
        "id": "view-in-github",
        "colab_type": "text"
      },
      "source": [
        "<a href=\"https://colab.research.google.com/github/arturborgo/MAI/blob/main/pratical_activity_03.ipynb\" target=\"_parent\"><img src=\"https://colab.research.google.com/assets/colab-badge.svg\" alt=\"Open In Colab\"/></a>"
      ]
    },
    {
      "cell_type": "markdown",
      "source": [
        "### **Question 01: Python Data Types and Variables**\n",
        "\n",
        "  *1.1 - Create variables of the following types*: age = 37 (integer), salary = 100.00 (float), name = \"John\" (string), and is_happy = True (boolean).\n",
        "\n",
        "  *1.2 - Use the type() function to print the type of each variable.*"
      ],
      "metadata": {
        "id": "BWXkuh8Th59p"
      }
    },
    {
      "cell_type": "code",
      "execution_count": 18,
      "metadata": {
        "colab": {
          "base_uri": "https://localhost:8080/"
        },
        "id": "yns9-OOafj9S",
        "outputId": "ac3ac6d4-0ae8-465f-be8c-855860ad5626"
      },
      "outputs": [
        {
          "output_type": "stream",
          "name": "stdout",
          "text": [
            "Type of age: <class 'int'>\n",
            "Type of salary: <class 'float'>\n",
            "Type of name: <class 'str'>\n",
            "Type of is_happy: <class 'bool'>\n"
          ]
        }
      ],
      "source": [
        "# 1.1 - Variable declarations\n",
        "age = 37            # integer\n",
        "salary = 100.00     # float\n",
        "name = \"John\"       # string\n",
        "is_happy = True     # boolean\n",
        "\n",
        "# 1.2 - Printing the type of each variable\n",
        "print(f\"Type of age:\", type(age))\n",
        "print(\"Type of salary:\", type(salary))\n",
        "print(\"Type of name:\", type(name))\n",
        "print(\"Type of is_happy:\", type(is_happy))"
      ]
    },
    {
      "cell_type": "markdown",
      "source": [
        "##**Question 02: Operators and Expressions**\n",
        "\n",
        "Declare two numbers: a = 10 and b = 3.\n",
        "\n",
        "*2.1. Arithmetic*\n",
        "\n",
        "Print the results of:\n",
        "\n",
        "a + b, a - b, a * b, a / b, a % b, and a ** b.\n",
        "\n",
        "*2.2. Relational*\n",
        "\n",
        "Print the results of the comparisons between a and b using the operators: ==, !=, >, <, >=, and <=.\n",
        "\n",
        "*2.3. Assignment Operators*\n",
        "\n",
        "- Create a variable c = 5.\n",
        "- Use c += 2 and then c *= 3.\n",
        "- Print the final value of c.\n",
        "\n",
        "*2.4. Logical Operators*\n",
        "\n",
        "- Create two variables c = True and d = False.\n",
        "- Print the output of “and”, “or” and “not” operations between “c” and “d”"
      ],
      "metadata": {
        "id": "rBunVzSnk6wC"
      }
    },
    {
      "cell_type": "code",
      "source": [
        "# Declare the two numbers\n",
        "a = 10\n",
        "b = 3\n",
        "\n",
        "print (\"\\033[1m 2.1 - Print the Arithmetic results\\033[0m\")\n",
        "\n",
        "# Addition\n",
        "print(f\"a+b = {a+b}\")\n",
        "\n",
        "# Subtraction\n",
        "print(f\"a-b = {a-b}\")\n",
        "\n",
        "# Multiplication\n",
        "print(f\"a*b = {a*b}\")\n",
        "\n",
        "# Division\n",
        "print(f\"a/b = {a/b}\")\n",
        "\n",
        "# Modulus\n",
        "print(f\"a%b = {a%b}\")\n",
        "\n",
        "# Exponentiation\n",
        "print(f\"a**b = {a**b}\")\n",
        "\n",
        "print (\"\\033[1m 2.2 - Print the Relational results\\033[0m\")\n",
        "\n",
        "# Equal to\n",
        "print(f\"a = b is {a==b}\")\n",
        "\n",
        "# Not Equal to\n",
        "print(f\"a ≠ b is {a!=b}\")\n",
        "\n",
        "# Greater than to\n",
        "print(f\"a > b is {a>b}\")\n",
        "\n",
        "# Less than to\n",
        "print(f\"a < b is {a<b}\")\n",
        "\n",
        "# Greater than or equal to\n",
        "print(f\"a ≥ b is {a>=b}\")\n",
        "\n",
        "# Less than or equal to\n",
        "print(f\"a ≤ b is {a<=b}\")"
      ],
      "metadata": {
        "colab": {
          "base_uri": "https://localhost:8080/"
        },
        "id": "7NsSKeJ1lVdM",
        "outputId": "42f95291-91d9-4135-abb6-8cb9bad3d667"
      },
      "execution_count": 39,
      "outputs": [
        {
          "output_type": "stream",
          "name": "stdout",
          "text": [
            "\u001b[1m 2.1 - Print the Arithmetic results\u001b[0m\n",
            "a+b = 13\n",
            "a-b = 7\n",
            "a*b = 30\n",
            "a/b = 3.3333333333333335\n",
            "a%b = 1\n",
            "a**b = 1000\n",
            "\u001b[1m 2.2 - Print the Relational results\u001b[0m\n",
            "a = b is False\n",
            "a ≠ b is True\n",
            "a > b is True\n",
            "a < b is False\n",
            "a ≥ b is True\n",
            "a ≤ b is False\n"
          ]
        }
      ]
    }
  ]
}