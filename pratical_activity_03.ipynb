{
  "nbformat": 4,
  "nbformat_minor": 0,
  "metadata": {
    "colab": {
      "provenance": [],
      "authorship_tag": "ABX9TyOwqECQ0eDuuzwyDKTtqA/f",
      "include_colab_link": true
    },
    "kernelspec": {
      "name": "python3",
      "display_name": "Python 3"
    },
    "language_info": {
      "name": "python"
    }
  },
  "cells": [
    {
      "cell_type": "markdown",
      "metadata": {
        "id": "view-in-github",
        "colab_type": "text"
      },
      "source": [
        "<a href=\"https://colab.research.google.com/github/arturborgo/MAI/blob/main/pratical_activity_03.ipynb\" target=\"_parent\"><img src=\"https://colab.research.google.com/assets/colab-badge.svg\" alt=\"Open In Colab\"/></a>"
      ]
    },
    {
      "cell_type": "markdown",
      "source": [
        "## **Question 01: Python Data Types and Variables**\n",
        "\n",
        "  *1.1 - Create variables of the following types*: age = 37 (integer), salary = 100.00 (float), name = \"John\" (string), and is_happy = True (boolean).\n",
        "\n",
        "  *1.2 - Use the type() function to print the type of each variable.*"
      ],
      "metadata": {
        "id": "BWXkuh8Th59p"
      }
    },
    {
      "cell_type": "code",
      "execution_count": null,
      "metadata": {
        "colab": {
          "base_uri": "https://localhost:8080/"
        },
        "id": "yns9-OOafj9S",
        "outputId": "eb2ca333-59fb-49e3-bc25-24f45f0f0f77"
      },
      "outputs": [
        {
          "output_type": "stream",
          "name": "stdout",
          "text": [
            "Type of age: <class 'int'>\n",
            "Type of salary: <class 'float'>\n",
            "Type of name: <class 'str'>\n",
            "Type of is_happy: <class 'bool'>\n"
          ]
        }
      ],
      "source": [
        "# 1.1 - Variable declarations\n",
        "age = 37            # integer\n",
        "salary = 100.00     # float\n",
        "name = \"John\"       # string\n",
        "is_happy = True     # boolean\n",
        "\n",
        "# 1.2 - Printing the type of each variable\n",
        "print(f\"Type of age:\", type(age))\n",
        "print(\"Type of salary:\", type(salary))\n",
        "print(\"Type of name:\", type(name))\n",
        "print(\"Type of is_happy:\", type(is_happy))"
      ]
    },
    {
      "cell_type": "markdown",
      "source": [
        "##**Question 02: Operators and Expressions**\n",
        "\n",
        "Declare two numbers: a = 10 and b = 3.\n",
        "\n",
        "*2.1. Arithmetic*\n",
        "\n",
        "Print the results of:\n",
        "\n",
        "a + b, a - b, a * b, a / b, a % b, and a ** b.\n",
        "\n",
        "*2.2. Relational*\n",
        "\n",
        "Print the results of the comparisons between a and b using the operators: ==, !=, >, <, >=, and <=.\n",
        "\n",
        "*2.3. Assignment Operators*\n",
        "\n",
        "- Create a variable c = 5.\n",
        "- Use c += 2 and then c *= 3.\n",
        "- Print the final value of c.\n",
        "\n",
        "*2.4. Logical Operators*\n",
        "\n",
        "- Create two variables c = True and d = False.\n",
        "- Print the output of “and”, “or” and “not” operations between “c” and “d”"
      ],
      "metadata": {
        "id": "rBunVzSnk6wC"
      }
    },
    {
      "cell_type": "code",
      "source": [
        "# Declare the two numbers\n",
        "a = 10\n",
        "b = 3\n",
        "\n",
        "print (\"\\033[1m 2.1 - Print the Arithmetic results\\033[0m\")\n",
        "\n",
        "# Addition\n",
        "print(f\"a+b = {a+b}\")\n",
        "\n",
        "# Subtraction\n",
        "print(f\"a-b = {a-b}\")\n",
        "\n",
        "# Multiplication\n",
        "print(f\"a*b = {a*b}\")\n",
        "\n",
        "# Division\n",
        "print(f\"a/b = {a/b}\")\n",
        "\n",
        "# Modulus\n",
        "print(f\"a%b = {a%b}\")\n",
        "\n",
        "# Exponentiation\n",
        "print(f\"a**b = {a**b}\")\n",
        "\n",
        "print (\"\\033[1m 2.2 - Print the Relational results\\033[0m\")\n",
        "\n",
        "# Equal to\n",
        "print(f\"a = b is {a==b}\")\n",
        "\n",
        "# Not Equal to\n",
        "print(f\"a ≠ b is {a!=b}\")\n",
        "\n",
        "# Greater than to\n",
        "print(f\"a > b is {a>b}\")\n",
        "\n",
        "# Less than to\n",
        "print(f\"a < b is {a<b}\")\n",
        "\n",
        "# Greater than or equal to\n",
        "print(f\"a ≥ b is {a>=b}\")\n",
        "\n",
        "# Less than or equal to\n",
        "print(f\"a ≤ b is {a<=b}\")\n",
        "\n",
        "print (\"\\033[1m 2.3 - Print the Assignment Operators\\033[0m\")\n",
        "# Create a new variable\n",
        "c = 5\n",
        "\n",
        "# Use the += operator to add \"2\" to \"number c\": c = c + 2\n",
        "print(f\"Initial value of c: {c}\")\n",
        "c += 2\n",
        "print(f\"Value of c after c += 2: {c}\")\n",
        "\n",
        "# Use the *= to multiply the \"number c\" for 3\n",
        "print(f\"Initial value of c: {c}\")\n",
        "c *= 3\n",
        "print(f\"Value of c after c *= 3: {c}\")\n",
        "\n",
        "print (\"\\033[1m 2.4 - Print the Logical Operators\\033[0m\")\n",
        "\n",
        "# Create two boolean variables\n",
        "c = True\n",
        "d = False\n",
        "\n",
        "# Print the output of “and”, “or” and “not” operations between “c” and “d”\n",
        "print(f\"c and d is {c and d}\")\n",
        "print(f\"c or d is {c or d}\")\n",
        "print(f\"not c is {not c}\")\n"
      ],
      "metadata": {
        "colab": {
          "base_uri": "https://localhost:8080/"
        },
        "id": "7NsSKeJ1lVdM",
        "outputId": "5501d066-a263-43d9-ffb0-e51b6741bfc5"
      },
      "execution_count": 51,
      "outputs": [
        {
          "output_type": "stream",
          "name": "stdout",
          "text": [
            "\u001b[1m 2.1 - Print the Arithmetic results\u001b[0m\n",
            "a+b = 13\n",
            "a-b = 7\n",
            "a*b = 30\n",
            "a/b = 3.3333333333333335\n",
            "a%b = 1\n",
            "a**b = 1000\n",
            "\u001b[1m 2.2 - Print the Relational results\u001b[0m\n",
            "a = b is False\n",
            "a ≠ b is True\n",
            "a > b is True\n",
            "a < b is False\n",
            "a ≥ b is True\n",
            "a ≤ b is False\n",
            "\u001b[1m 2.3 - Print the Assignment Operators\u001b[0m\n",
            "Initial value of c: 5\n",
            "Value of c after c += 2: 7\n",
            "Initial value of c: 7\n",
            "Value of c after c *= 3: 21\n",
            "\u001b[1m 2.4 - Print the Logical Operators\u001b[0m\n",
            "c and d is False\n",
            "c or d is True\n",
            "not c is False\n"
          ]
        }
      ]
    },
    {
      "cell_type": "markdown",
      "source": [
        "##**Question 03: Input and Output**\n",
        "*3.1. Use the input() function to ask the user to enter their name.*\n",
        "\n",
        "*3.2. Example prompt: \"What is your name?\"*\n",
        "\n",
        "*3.3. Store the result in a variable called “name”.*\n",
        "\n",
        "*3.4.Use an f-string to display a personalized greeting.*\n",
        "\n",
        "*3.5. Example: \"Hello, [name]!\", where [name] is replaced by the value entered by the user.*\n",
        "\n",
        "*3.6. Run the program multiple times and test it with different names to see the dynamic greeting.*\n"
      ],
      "metadata": {
        "id": "WS4imGZkt9Gq"
      }
    },
    {
      "cell_type": "code",
      "source": [
        "user_name = input(\"Please enter your name: \")\n",
        "print(f\"Hello, {user_name}!\")"
      ],
      "metadata": {
        "colab": {
          "base_uri": "https://localhost:8080/"
        },
        "id": "7TfkrkWBv4zH",
        "outputId": "9ea6dc30-056c-4487-c0e7-6c1e78ee6216"
      },
      "execution_count": 52,
      "outputs": [
        {
          "output_type": "stream",
          "name": "stdout",
          "text": [
            "Please enter your name: Artur\n",
            "Hello, Artur!\n"
          ]
        }
      ]
    }
  ]
}